{
 "cells": [
  {
   "cell_type": "markdown",
   "id": "6b8e33aa",
   "metadata": {},
   "source": [
    "## Model for the Galton board. Why the balls fill a Gaussian bell?"
   ]
  },
  {
   "cell_type": "markdown",
   "id": "f3b088e9",
   "metadata": {},
   "source": [
    "Each ball thrown colide with one of the pins forming a Pascal triangle of n layers. It is assumed that in each collision the ball will be kicked to the left or to the right by the same displacement. At the end of the triangle each ball will be falling in some X coordinate that is the random variable of interest. Check the script \"Central limit theorem.py\" for an animation of this model."
   ]
  },
  {
   "cell_type": "markdown",
   "id": "4971f827",
   "metadata": {},
   "source": [
    "The ball will be kicked to the right with probability p and to the left with probability (1-p) so the ball movement is just like a random walk.\n",
    "If I is a Bernoulli random variable the steps to the right will be:\n",
    "1) $$ \\sum \\limits_{i = 1}^{n} I_{i} $$\n",
    "    And to the left:\n",
    "2) $$n - \\sum \\limits_{i = 1}^{n} I_{i} $$\n",
    "    The X position of the ball at the end of the Pascal triangle will be:\n",
    "3) $$X = \\Delta X\\sum \\limits_{i = 1}^{n} I_{i} -\\Delta X(n - \\sum \\limits_{i = 1}^{n} I_{i}) = 2 \\Delta X\\sum \\limits_{i = 1}^{n} I_{i} - n\\Delta X $$\n",
    "    According to the central limit theorem:\n",
    "4) $$P\\left(\\sqrt{n}\\frac{\\bar I - p}{\\sqrt{p(1-p)}} \\leq z\\right) \\rightarrow \\Phi (z)$$\n",
    "5) $$\\bar {I} =\\frac{\\sum \\limits_{i = 1}^{n} I_{i}}{n}$$  \n",
    "    If one solve for mean(I) asigning p = 1/2 (both directions equally likely):\n",
    "6) $$\\bar {I} = \\frac{Z}{2\\sqrt{n}} + 1/2$$\n",
    "    Where Z in the limit (n -> infinity) case is a random variable with standar normal distribution. Using equations 5 and 6 into 3:\n",
    "7) $$ X = \\Delta X \\sqrt{n} \\, Z$$\n",
    "\n",
    "From 7) X tends to a normal distribution with mean cero (center of the board) and standar deviation $$\\bar {X} = 0,\\;\\;\\; \\sigma = \\Delta X \\sqrt{n}$$"
   ]
  },
  {
   "cell_type": "code",
   "execution_count": 389,
   "id": "27e029c7",
   "metadata": {},
   "outputs": [],
   "source": [
    "import numpy as np\n",
    "import matplotlib.pyplot as plt\n",
    "import random as rn\n",
    "from scipy.stats import norm"
   ]
  },
  {
   "cell_type": "code",
   "execution_count": 390,
   "id": "00b8bc38",
   "metadata": {},
   "outputs": [],
   "source": [
    "# Constants\n",
    "DX = 24 # Fix displacement on x\n",
    "BOARD_WIDTH = 600 \n",
    "N_PASCAL = 12 # Number of rows of the Pascal triangle\n",
    "n = 900 # Number of balls\n"
   ]
  },
  {
   "cell_type": "code",
   "execution_count": 391,
   "id": "97436626",
   "metadata": {},
   "outputs": [],
   "source": [
    "def x_ball(n_pins, x_displacement, board_width):\n",
    "    ''' \n",
    "    returns the X coordinate\n",
    "    n_pins: int, represents the number of layers of Pascal's triangle\n",
    "    x_displacement: int, the delta x displacemente in each iteration\n",
    "    board_width: int size of the board to get the spread for X\n",
    "    '''\n",
    "    left_count = 0\n",
    "    right_count = 0\n",
    "    for i in range(n_pins):\n",
    "        result = rn.choice([0, 1])\n",
    "        if result:\n",
    "            right_count += 1\n",
    "        else:\n",
    "            left_count += 1\n",
    "    return (board_width // 2) + x_displacement*(right_count - left_count)\n",
    "\n",
    "def run_balls(n_balls, n_pins, x_displacement, board_width):\n",
    "    '''\n",
    "    Return a list with the Xs for n_balls\n",
    "    n_pins: int, represents the number of layers of Pascal's triangle\n",
    "    x_displacement: int, the delta x displacemente in each iteration\n",
    "    board_width: int size of the board to get the spread for X\n",
    "    '''\n",
    "    X_list = []\n",
    "    for _ in range(n_balls):\n",
    "        X_list.append(x_ball(n_pins, x_displacement, board_width))\n",
    "    return X_list"
   ]
  },
  {
   "cell_type": "code",
   "execution_count": 392,
   "id": "803fe1ed",
   "metadata": {},
   "outputs": [
    {
     "name": "stdout",
     "output_type": "stream",
     "text": [
      "83.13843876330611\n"
     ]
    }
   ],
   "source": [
    "#standar deviation\n",
    "std = DX * np.sqrt(N_PASCAL)\n",
    "print(std)"
   ]
  },
  {
   "cell_type": "code",
   "execution_count": 393,
   "id": "985f547e",
   "metadata": {},
   "outputs": [],
   "source": [
    "normal_x_samples = np.random.normal(loc=300, scale=std, size=900)"
   ]
  },
  {
   "cell_type": "code",
   "execution_count": 394,
   "id": "1441716b",
   "metadata": {},
   "outputs": [],
   "source": [
    "ball_landings = run_balls(n_balls=n, n_pins=N_PASCAL, x_displacement=DX, board_width=BOARD_WIDTH)"
   ]
  },
  {
   "cell_type": "code",
   "execution_count": 395,
   "id": "d670d76c",
   "metadata": {},
   "outputs": [],
   "source": [
    "# pdf values\n",
    "x = [i for i in range(600) if i%2]\n",
    "y = list(map(lambda j: norm.pdf(j, 300, std), x))\n"
   ]
  },
  {
   "cell_type": "code",
   "execution_count": 396,
   "id": "a02708b6",
   "metadata": {},
   "outputs": [
    {
     "data": {
      "text/plain": [
       "[<matplotlib.lines.Line2D at 0x7fd42bb72750>]"
      ]
     },
     "execution_count": 396,
     "metadata": {},
     "output_type": "execute_result"
    },
    {
     "data": {
      "image/png": "[encoded data removed]",
      "text/plain": [
       "<Figure size 640x480 with 1 Axes>"
      ]
     },
     "metadata": {},
     "output_type": "display_data"
    }
   ],
   "source": [
    "\n",
    "fig, ax = plt.subplots(1, 1)\n",
    "\n",
    "# Samples from the ball process\n",
    "ax.hist(ball_landings, density=True, color='blue')\n",
    "# Samples from the normal distribution\n",
    "ax.hist(normal_x_samples, density=True, color='green')\n",
    "# Normal density\n",
    "ax.plot(x, y, color='black')"
   ]
  },
  {
   "cell_type": "code",
   "execution_count": 397,
   "id": "2cf47ecc",
   "metadata": {},
   "outputs": [
    {
     "name": "stdout",
     "output_type": "stream",
     "text": [
      "85.05817521078794\n"
     ]
    }
   ],
   "source": [
    "print(np.std(ball_landings, ddof=1))"
   ]
  }
 ],
 "metadata": {
  "kernelspec": {
   "display_name": "statistics",
   "language": "python",
   "name": "python3"
  },
  "language_info": {
   "codemirror_mode": {
    "name": "ipython",
    "version": 3
   },
   "file_extension": ".py",
   "mimetype": "text/x-python",
   "name": "python",
   "nbconvert_exporter": "python",
   "pygments_lexer": "ipython3",
   "version": "3.12.11"
  }
 },
 "nbformat": 4,
 "nbformat_minor": 5
}
