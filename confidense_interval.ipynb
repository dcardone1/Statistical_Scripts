{
 "cells": [
  {
   "cell_type": "markdown",
   "id": "6a06db67",
   "metadata": {},
   "source": [
    "## Confidence interval using t distribution"
   ]
  },
  {
   "cell_type": "markdown",
   "id": "40385f60",
   "metadata": {},
   "source": [
    "\n",
    "$ \\text{Let Z be a standar normal distribution and W a Chi square distribution with n degrees of freedom,}$\n",
    "\n",
    "$\\text{the combination below follows a Student t distribution:}$\n",
    "\n",
    "1) $$\\frac{Z}{\\sqrt{W/n}}$$\n",
    "\n",
    "$ \\text{if a sample of n size is taken from a population where the } X_{i} \\text{ are normally distributed with mean } \\mu \\text{ and standar deviation } \\sigma$\n",
    "\n",
    "$\\text{Then: }$\n",
    "\n",
    "2) $$\\frac{\\bar X - \\mu}{\\frac{\\sigma}{\\sqrt{n}}}$$  \n",
    "\n",
    "$\\text{ is standar normal. In the other hand it can be shown that: }$\n",
    "\n",
    "3) $$\\frac{(n - 1)S_{n}^2}{\\sigma^2} \\sim \\chi_{n-1}^2$$\n",
    "\n",
    "$\\text{Being S the sample standar deviation and } \\chi_{n-1}^2 \\text{ a Chi square distribution with (n - 1) degrees of freedom.}$\n",
    "\n",
    "$\\text{Dividing 3. by its degrees of freedom and taking the square root:}$\n",
    "\n",
    "4) $$\\sqrt{\\frac{(n - 1)S_{n}^2}{\\sigma^2 (n - 1)}} = \\frac{S_{n}}{\\sigma}$$\n",
    "\n",
    "$\\text{Dividing 2. by 4. a t student distribution with (n - 1)  degrees of freedom is obtained}$\n",
    "\n",
    "5) $$\\frac{\\bar X - \\mu}{\\frac{S_{n}}{\\sqrt{n}}}$$\n",
    "\n",
    "$\\text{A } (1-\\alpha) \\text{ confidence interval can be derived from:}$\n",
    "\n",
    "6) $$ 1 - \\alpha = P \\Big( t_{n-1, \\alpha/2} \\leq \\frac{\\bar X - \\mu}{\\frac{S_{n}}{\\sqrt{n}}} \\leq t_{n-1, 1-\\alpha/2} \\Big)$$\n",
    "\n",
    "$$ = P \\Big( \\bar X - t_{n-1, 1- \\alpha/2}\\frac{S_{n}}{\\sqrt{n}} \\leq \\mu \\leq \\bar X + t_{n-1, 1-\\alpha/2}\\frac{S_{n}}{\\sqrt{n}} \\Big)$$\n",
    "\n",
    "$\\text{Considering that the t pdf si simetric } t_{n-1,\\alpha/2} = - t_{n-1,1-\\alpha/2}$\n",
    "\n",
    "$ \\text{So the } (1-\\alpha) \\text{confidence interval is }  \\Big[\\bar X - t_{n-1, 1- \\alpha/2}\\frac{S_{n}}{\\sqrt{n}}\\, , \\, \\bar X + t_{n-1, 1-\\alpha/2}\\frac{S_{n}}{\\sqrt{n}}\\Big]$"
   ]
  },
  {
   "cell_type": "code",
   "execution_count": 93,
   "id": "36bd0273",
   "metadata": {},
   "outputs": [],
   "source": [
    "import numpy as np\n",
    "from scipy import stats"
   ]
  },
  {
   "cell_type": "code",
   "execution_count": 94,
   "id": "eb47b35f",
   "metadata": {},
   "outputs": [],
   "source": [
    "# Data sample, as an axample. one can choose another data list to perform the calculations\n",
    "x = np.random.normal(loc=5, scale=10, size=200)\n",
    "\n",
    "# Sample size\n",
    "sample_size = len(x)"
   ]
  },
  {
   "cell_type": "code",
   "execution_count": 95,
   "id": "9816a55b",
   "metadata": {},
   "outputs": [
    {
     "name": "stdout",
     "output_type": "stream",
     "text": [
      "mean: 5.49561203030529\n",
      "Sample st deviation: 10.565759781883308\n"
     ]
    }
   ],
   "source": [
    "# Sample mean\n",
    "x_bar = x.mean()\n",
    "print(f'mean: {x_bar}')\n",
    "\n",
    "# Sample standar deviation\n",
    "x_std = np.std(x, ddof=1)\n",
    "print(f'Sample st deviation: {x_std}')"
   ]
  },
  {
   "cell_type": "code",
   "execution_count": 96,
   "id": "d7cbd631",
   "metadata": {},
   "outputs": [],
   "source": [
    "# Confidence level  (1 - alpha)\n",
    "confidence_required = 0.95\n",
    "alpha = 1 - confidence_required\n",
    "dof = sample_size - 1"
   ]
  },
  {
   "cell_type": "code",
   "execution_count": 97,
   "id": "a195975a",
   "metadata": {},
   "outputs": [
    {
     "name": "stdout",
     "output_type": "stream",
     "text": [
      "1 - alpha/2 = 0.975, (1 - alpha/2) quantile: 1.971956544249395\n"
     ]
    }
   ],
   "source": [
    "# t (1 - alpha/2) quantile\n",
    "q = 1 - alpha/2\n",
    "tq = stats.t.ppf(q, df = dof, loc=0, scale=1)\n",
    "print(f'1 - alpha/2 = {q}, (1 - alpha/2) quantile: {tq}')"
   ]
  },
  {
   "cell_type": "code",
   "execution_count": 98,
   "id": "28003f5e",
   "metadata": {},
   "outputs": [
    {
     "name": "stdout",
     "output_type": "stream",
     "text": [
      "95.0 % confidence interval : [ 4.022339555680617 , 6.968884504929964]\n"
     ]
    }
   ],
   "source": [
    "# Calculating the interval manually.\n",
    "ci = (x_bar - tq*x_std/(sample_size)**0.5, x_bar + tq*x_std/(sample_size)**0.5)\n",
    "print(f'{confidence_required*100} % confidence interval : [ {ci[0]} , {ci[1]}]')"
   ]
  },
  {
   "cell_type": "code",
   "execution_count": 99,
   "id": "4c76acee",
   "metadata": {},
   "outputs": [
    {
     "name": "stdout",
     "output_type": "stream",
     "text": [
      "95.0 % confidence interval : [ 4.022339555680617 , 6.968884504929964]\n"
     ]
    }
   ],
   "source": [
    "# Using scipy\n",
    "ci_auto = stats.t.interval(\n",
    "    confidence_required,\n",
    "    df=dof,\n",
    "    loc=x_bar,\n",
    "    scale=x_std/(sample_size)**0.5\n",
    ")\n",
    "print(f'{confidence_required*100} % confidence interval : [ {ci_auto[0]} , {ci_auto[1]}]')\n"
   ]
  },
  {
   "cell_type": "markdown",
   "id": "b2a6fbbe",
   "metadata": {},
   "source": [
    "### Calculation for two independent groups from a population with same standar deviation"
   ]
  },
  {
   "cell_type": "code",
   "execution_count": null,
   "id": "c670e8f8",
   "metadata": {},
   "outputs": [
    {
     "name": "stdout",
     "output_type": "stream",
     "text": [
      "347.5\n",
      "95.0 % confidence interval : [ -7.79921255159006 , 27.79921255159006]\n"
     ]
    }
   ],
   "source": [
    "# number of observations\n",
    "nx = 15\n",
    "ny = 7\n",
    "# mean and standar deviation for control x group\n",
    "x_bar = 120\n",
    "Sx = 20\n",
    "# mean and standar deviation for treatment group y\n",
    "y_bar = 130\n",
    "Sy = 15\n",
    "\n",
    "# The standar deviation from population is the same for the two groups from hypotesis\n",
    "\n",
    "Pooled_variance = ((nx-1)*Sx**2 + (ny-1)*Sy**2)/(nx + ny - 2)\n",
    "Sp = Pooled_variance**0.5\n",
    "\n",
    "dof = nx + ny - 2\n",
    "\n",
    "standar_error = Sp*(1/nx + 1/ny)**0.5\n",
    "\n",
    "\n",
    "# a confidense interval for the difference between the two means\n",
    "ci_group = stats.t.interval(\n",
    "    confidence_required,\n",
    "    df=dof,\n",
    "    loc=y_bar - x_bar, \n",
    "    scale=standar_error\n",
    ")\n",
    "print(f'{confidence_required*100} % confidence interval : [ {ci_group[0]} , {ci_group[1]}]')\n"
   ]
  }
 ],
 "metadata": {
  "kernelspec": {
   "display_name": "statistics",
   "language": "python",
   "name": "python3"
  },
  "language_info": {
   "codemirror_mode": {
    "name": "ipython",
    "version": 3
   },
   "file_extension": ".py",
   "mimetype": "text/x-python",
   "name": "python",
   "nbconvert_exporter": "python",
   "pygments_lexer": "ipython3",
   "version": "3.12.11"
  }
 },
 "nbformat": 4,
 "nbformat_minor": 5
}
