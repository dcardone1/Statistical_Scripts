{
 "cells": [
  {
   "cell_type": "markdown",
   "id": "6a06db67",
   "metadata": {},
   "source": [
    "## Confidence interval using t distribution"
   ]
  },
  {
   "cell_type": "markdown",
   "id": "40385f60",
   "metadata": {},
   "source": [
    "\n",
    "$ \\text{Let Z be a standar normal distribution and W a Chi square distribution with n degrees of freedom,}$\n",
    "\n",
    "$\\text{the combination below follows a Student t distribution:}$\n",
    "\n",
    "1) $$\\frac{Z}{\\sqrt{W/n}}$$\n",
    "\n",
    "$ \\text{if a sample of n size is taken from a population where the } X_{i} \\text{ are normally distributed with mean } \\mu \\text{ and standar deviation } \\sigma$\n",
    "\n",
    "$\\text{Then: }$\n",
    "\n",
    "2) $$\\frac{\\bar X - \\mu}{\\frac{\\sigma}{\\sqrt{n}}}$$  \n",
    "\n",
    "$\\text{ is standar normal. In the other hand it can be shown that: }$\n",
    "\n",
    "3) $$\\frac{(n - 1)S_{n}^2}{\\sigma^2} \\sim \\chi_{n-1}^2$$\n",
    "\n",
    "$\\text{Being S the sample standar deviation and } \\chi_{n-1}^2 \\text{ a Chi square distribution with (n - 1) degrees of freedom.}$\n",
    "\n",
    "$\\text{Dividing 3. by its degrees of freedom and taking the square root:}$\n",
    "\n",
    "4) $$\\sqrt{\\frac{(n - 1)S_{n}^2}{\\sigma^2 (n - 1)}} = \\frac{S_{n}}{\\sigma}$$\n",
    "\n",
    "$\\text{Dividing 2. by 4. a t student distribution with (n - 1)  degrees of freedom is obtained}$\n",
    "\n",
    "5) $$\\frac{\\bar X - \\mu}{\\frac{S_{n}}{\\sqrt{n}}}$$\n",
    "\n",
    "$\\text{A } (1-\\alpha) \\text{ confidence interval can be derived from:}$\n",
    "\n",
    "6) $$ 1 - \\alpha = P \\Big( t_{n-1, \\alpha/2} \\leq \\frac{\\bar X - \\mu}{\\frac{S_{n}}{\\sqrt{n}}} \\leq t_{n-1, 1-\\alpha/2} \\Big)$$\n",
    "\n",
    "$$ = P \\Big( \\bar X - t_{n-1, 1- \\alpha/2}\\frac{S_{n}}{\\sqrt{n}} \\leq \\mu \\leq \\bar X + t_{n-1, 1-\\alpha/2}\\frac{S_{n}}{\\sqrt{n}} \\Big)$$\n",
    "\n",
    "$\\text{Considering that the t pdf si simetric } t_{n-1,\\alpha/2} = - t_{n-1,1-\\alpha/2}$\n",
    "\n",
    "$ \\text{So the } (1-\\alpha) \\text{confidence interval is }  \\Big[\\bar X - t_{n-1, 1- \\alpha/2}\\frac{S_{n}}{\\sqrt{n}}\\, , \\, \\bar X + t_{n-1, 1-\\alpha/2}\\frac{S_{n}}{\\sqrt{n}}\\Big]$"
   ]
  },
  {
   "cell_type": "code",
   "execution_count": 42,
   "id": "36bd0273",
   "metadata": {},
   "outputs": [],
   "source": [
    "import numpy as np\n",
    "from scipy import stats"
   ]
  },
  {
   "cell_type": "code",
   "execution_count": null,
   "id": "496fa1bf",
   "metadata": {},
   "outputs": [],
   "source": []
  },
  {
   "cell_type": "code",
   "execution_count": 43,
   "id": "eb47b35f",
   "metadata": {},
   "outputs": [],
   "source": [
    "# Data sample\n",
    "x = np.array([1,2,1,2,1,2,1,2,1,2,1,2,1,2,1,2,1,2])\n",
    "\n",
    "# Sample size\n",
    "sample_size = len(x)"
   ]
  },
  {
   "cell_type": "code",
   "execution_count": 44,
   "id": "9816a55b",
   "metadata": {},
   "outputs": [
    {
     "name": "stdout",
     "output_type": "stream",
     "text": [
      "mean: 1.5\n",
      "Sample st deviation: 0.5144957554275266\n"
     ]
    }
   ],
   "source": [
    "# Sample mean\n",
    "x_bar = x.mean()\n",
    "print(f'mean: {x_bar}')\n",
    "\n",
    "# Sample standar deviation\n",
    "x_std = np.std(x, ddof=1)\n",
    "print(f'Sample st deviation: {x_std}')"
   ]
  },
  {
   "cell_type": "code",
   "execution_count": 45,
   "id": "d7cbd631",
   "metadata": {},
   "outputs": [],
   "source": [
    "# Confidence level  (1 - alpha)\n",
    "confidence_required = 0.95\n",
    "alpha = 1 - confidence_required\n",
    "dof = sample_size - 1"
   ]
  },
  {
   "cell_type": "code",
   "execution_count": 46,
   "id": "a195975a",
   "metadata": {},
   "outputs": [
    {
     "name": "stdout",
     "output_type": "stream",
     "text": [
      "1 - alpha/2 = 0.975, (1 - alpha/2) quantile: 2.1098155778331806\n"
     ]
    }
   ],
   "source": [
    "# t (1 - alpha/2) quantile\n",
    "q = 1 - alpha/2\n",
    "tq = stats.t.ppf(q, df = dof, loc=0, scale=1)\n",
    "print(f'1 - alpha/2 = {q}, (1 - alpha/2) quantile: {tq}')"
   ]
  },
  {
   "cell_type": "code",
   "execution_count": 47,
   "id": "28003f5e",
   "metadata": {},
   "outputs": [
    {
     "name": "stdout",
     "output_type": "stream",
     "text": [
      "0.95 confidence interval : [ 1.2441472800594187 , 1.7558527199405813]\n"
     ]
    }
   ],
   "source": [
    "# Calculating the interval manually.\n",
    "ci = (x_bar - tq*x_std/(sample_size)**0.5, x_bar + tq*x_std/(sample_size)**0.5)\n",
    "print(f'{confidence_required} confidence interval : [ {ci[0]} , {ci[1]}]')"
   ]
  },
  {
   "cell_type": "code",
   "execution_count": 48,
   "id": "4c76acee",
   "metadata": {},
   "outputs": [
    {
     "name": "stdout",
     "output_type": "stream",
     "text": [
      "0.95 confidence interval : [ 1.2441472800594187 , 1.7558527199405813]\n"
     ]
    }
   ],
   "source": [
    "# Using scipy\n",
    "ci_auto = stats.t.interval(\n",
    "    confidence_required,\n",
    "    df=dof,\n",
    "    loc=x_bar,\n",
    "    scale=x_std/(sample_size)**0.5\n",
    ")\n",
    "print(f'{confidence_required} confidence interval : [ {ci_auto[0]} , {ci_auto[1]}]')\n"
   ]
  }
 ],
 "metadata": {
  "kernelspec": {
   "display_name": "statistics",
   "language": "python",
   "name": "python3"
  },
  "language_info": {
   "codemirror_mode": {
    "name": "ipython",
    "version": 3
   },
   "file_extension": ".py",
   "mimetype": "text/x-python",
   "name": "python",
   "nbconvert_exporter": "python",
   "pygments_lexer": "ipython3",
   "version": "3.12.11"
  }
 },
 "nbformat": 4,
 "nbformat_minor": 5
}
